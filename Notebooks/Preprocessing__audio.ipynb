{
  "nbformat": 4,
  "nbformat_minor": 0,
  "metadata": {
    "colab": {
      "name": "Preprocessing__audio.ipynb",
      "provenance": [],
      "collapsed_sections": []
    },
    "kernelspec": {
      "name": "python3",
      "display_name": "Python 3"
    },
    "language_info": {
      "name": "python"
    }
  },
  "cells": [
    {
      "cell_type": "code",
      "execution_count": 1,
      "metadata": {
        "id": "iVv18tkZevcQ",
        "colab": {
          "base_uri": "https://localhost:8080/"
        },
        "outputId": "35ba138e-83d9-4a7e-d855-555e3f23799d"
      },
      "outputs": [
        {
          "output_type": "stream",
          "name": "stdout",
          "text": [
            "Looking in indexes: https://pypi.org/simple, https://us-python.pkg.dev/colab-wheels/public/simple/\n",
            "Requirement already satisfied: kaggle in /usr/local/lib/python3.7/dist-packages (1.5.12)\n",
            "Requirement already satisfied: tqdm in /usr/local/lib/python3.7/dist-packages (from kaggle) (4.64.0)\n",
            "Requirement already satisfied: urllib3 in /usr/local/lib/python3.7/dist-packages (from kaggle) (1.24.3)\n",
            "Requirement already satisfied: six>=1.10 in /usr/local/lib/python3.7/dist-packages (from kaggle) (1.15.0)\n",
            "Requirement already satisfied: python-slugify in /usr/local/lib/python3.7/dist-packages (from kaggle) (6.1.2)\n",
            "Requirement already satisfied: certifi in /usr/local/lib/python3.7/dist-packages (from kaggle) (2022.6.15)\n",
            "Requirement already satisfied: python-dateutil in /usr/local/lib/python3.7/dist-packages (from kaggle) (2.8.2)\n",
            "Requirement already satisfied: requests in /usr/local/lib/python3.7/dist-packages (from kaggle) (2.23.0)\n",
            "Requirement already satisfied: text-unidecode>=1.3 in /usr/local/lib/python3.7/dist-packages (from python-slugify->kaggle) (1.3)\n",
            "Requirement already satisfied: idna<3,>=2.5 in /usr/local/lib/python3.7/dist-packages (from requests->kaggle) (2.10)\n",
            "Requirement already satisfied: chardet<4,>=3.0.2 in /usr/local/lib/python3.7/dist-packages (from requests->kaggle) (3.0.4)\n",
            "Downloading birdclef-2022.zip to /content\n",
            "100% 6.12G/6.12G [02:16<00:00, 79.0MB/s]\n",
            "100% 6.12G/6.12G [02:16<00:00, 48.3MB/s]\n"
          ]
        }
      ],
      "source": [
        "# Downloading data base from kaggle\n",
        "! pip install kaggle\n",
        "! mkdir ~/.kaggle\n",
        "! cp kaggle.json ~/.kaggle/\n",
        "! chmod 600 ~/.kaggle/kaggle.json\n",
        "! kaggle competitions download -c birdclef-2022"
      ]
    },
    {
      "cell_type": "code",
      "source": [
        "# Downloadind libraries\n",
        "! pip install scikit-maad\n",
        "! sudo apt-get install python-pyaudio python3-pyaudio\n",
        "! pip install Ipython"
      ],
      "metadata": {
        "id": "NAzS-z9tfC3x",
        "colab": {
          "base_uri": "https://localhost:8080/"
        },
        "outputId": "52745f2a-ab7b-414b-a75d-9844eefdfda4"
      },
      "execution_count": 2,
      "outputs": [
        {
          "output_type": "stream",
          "name": "stdout",
          "text": [
            "Looking in indexes: https://pypi.org/simple, https://us-python.pkg.dev/colab-wheels/public/simple/\n",
            "Collecting scikit-maad\n",
            "  Downloading scikit_maad-1.3-py3-none-any.whl (134 kB)\n",
            "\u001b[K     |████████████████████████████████| 134 kB 4.2 MB/s \n",
            "\u001b[?25hCollecting scipy>=1.5\n",
            "  Downloading scipy-1.7.3-cp37-cp37m-manylinux_2_12_x86_64.manylinux2010_x86_64.whl (38.1 MB)\n",
            "\u001b[K     |████████████████████████████████| 38.1 MB 1.6 MB/s \n",
            "\u001b[?25hRequirement already satisfied: scikit-image>=0.17 in /usr/local/lib/python3.7/dist-packages (from scikit-maad) (0.18.3)\n",
            "Requirement already satisfied: numpy>=1.19 in /usr/local/lib/python3.7/dist-packages (from scikit-maad) (1.21.6)\n",
            "Requirement already satisfied: pandas>=1.1 in /usr/local/lib/python3.7/dist-packages (from scikit-maad) (1.3.5)\n",
            "Requirement already satisfied: resampy>=0.2 in /usr/local/lib/python3.7/dist-packages (from scikit-maad) (0.2.2)\n",
            "Requirement already satisfied: python-dateutil>=2.7.3 in /usr/local/lib/python3.7/dist-packages (from pandas>=1.1->scikit-maad) (2.8.2)\n",
            "Requirement already satisfied: pytz>=2017.3 in /usr/local/lib/python3.7/dist-packages (from pandas>=1.1->scikit-maad) (2022.1)\n",
            "Requirement already satisfied: six>=1.5 in /usr/local/lib/python3.7/dist-packages (from python-dateutil>=2.7.3->pandas>=1.1->scikit-maad) (1.15.0)\n",
            "Requirement already satisfied: numba>=0.32 in /usr/local/lib/python3.7/dist-packages (from resampy>=0.2->scikit-maad) (0.51.2)\n",
            "Requirement already satisfied: llvmlite<0.35,>=0.34.0.dev0 in /usr/local/lib/python3.7/dist-packages (from numba>=0.32->resampy>=0.2->scikit-maad) (0.34.0)\n",
            "Requirement already satisfied: setuptools in /usr/local/lib/python3.7/dist-packages (from numba>=0.32->resampy>=0.2->scikit-maad) (57.4.0)\n",
            "Requirement already satisfied: matplotlib!=3.0.0,>=2.0.0 in /usr/local/lib/python3.7/dist-packages (from scikit-image>=0.17->scikit-maad) (3.2.2)\n",
            "Requirement already satisfied: PyWavelets>=1.1.1 in /usr/local/lib/python3.7/dist-packages (from scikit-image>=0.17->scikit-maad) (1.3.0)\n",
            "Requirement already satisfied: pillow!=7.1.0,!=7.1.1,>=4.3.0 in /usr/local/lib/python3.7/dist-packages (from scikit-image>=0.17->scikit-maad) (7.1.2)\n",
            "Requirement already satisfied: networkx>=2.0 in /usr/local/lib/python3.7/dist-packages (from scikit-image>=0.17->scikit-maad) (2.6.3)\n",
            "Requirement already satisfied: imageio>=2.3.0 in /usr/local/lib/python3.7/dist-packages (from scikit-image>=0.17->scikit-maad) (2.4.1)\n",
            "Requirement already satisfied: tifffile>=2019.7.26 in /usr/local/lib/python3.7/dist-packages (from scikit-image>=0.17->scikit-maad) (2021.11.2)\n",
            "Requirement already satisfied: pyparsing!=2.0.4,!=2.1.2,!=2.1.6,>=2.0.1 in /usr/local/lib/python3.7/dist-packages (from matplotlib!=3.0.0,>=2.0.0->scikit-image>=0.17->scikit-maad) (3.0.9)\n",
            "Requirement already satisfied: cycler>=0.10 in /usr/local/lib/python3.7/dist-packages (from matplotlib!=3.0.0,>=2.0.0->scikit-image>=0.17->scikit-maad) (0.11.0)\n",
            "Requirement already satisfied: kiwisolver>=1.0.1 in /usr/local/lib/python3.7/dist-packages (from matplotlib!=3.0.0,>=2.0.0->scikit-image>=0.17->scikit-maad) (1.4.3)\n",
            "Requirement already satisfied: typing-extensions in /usr/local/lib/python3.7/dist-packages (from kiwisolver>=1.0.1->matplotlib!=3.0.0,>=2.0.0->scikit-image>=0.17->scikit-maad) (4.1.1)\n",
            "Installing collected packages: scipy, scikit-maad\n",
            "  Attempting uninstall: scipy\n",
            "    Found existing installation: scipy 1.4.1\n",
            "    Uninstalling scipy-1.4.1:\n",
            "      Successfully uninstalled scipy-1.4.1\n",
            "\u001b[31mERROR: pip's dependency resolver does not currently take into account all the packages that are installed. This behaviour is the source of the following dependency conflicts.\n",
            "albumentations 0.1.12 requires imgaug<0.2.7,>=0.2.5, but you have imgaug 0.2.9 which is incompatible.\u001b[0m\n",
            "Successfully installed scikit-maad-1.3 scipy-1.7.3\n",
            "Reading package lists... Done\n",
            "Building dependency tree       \n",
            "Reading state information... Done\n",
            "The following package was automatically installed and is no longer required:\n",
            "  libnvidia-common-460\n",
            "Use 'sudo apt autoremove' to remove it.\n",
            "The following additional packages will be installed:\n",
            "  libportaudio2\n",
            "Suggested packages:\n",
            "  python-pyaudio-doc\n",
            "The following NEW packages will be installed:\n",
            "  libportaudio2 python-pyaudio python3-pyaudio\n",
            "0 upgraded, 3 newly installed, 0 to remove and 62 not upgraded.\n",
            "Need to get 113 kB of archives.\n",
            "After this operation, 432 kB of additional disk space will be used.\n",
            "Get:1 http://archive.ubuntu.com/ubuntu bionic/universe amd64 libportaudio2 amd64 19.6.0-1 [64.6 kB]\n",
            "Get:2 http://archive.ubuntu.com/ubuntu bionic/universe amd64 python-pyaudio amd64 0.2.11-1build2 [24.1 kB]\n",
            "Get:3 http://archive.ubuntu.com/ubuntu bionic/universe amd64 python3-pyaudio amd64 0.2.11-1build2 [24.2 kB]\n",
            "Fetched 113 kB in 1s (87.1 kB/s)\n",
            "debconf: unable to initialize frontend: Dialog\n",
            "debconf: (No usable dialog-like program is installed, so the dialog based frontend cannot be used. at /usr/share/perl5/Debconf/FrontEnd/Dialog.pm line 76, <> line 3.)\n",
            "debconf: falling back to frontend: Readline\n",
            "debconf: unable to initialize frontend: Readline\n",
            "debconf: (This frontend requires a controlling tty.)\n",
            "debconf: falling back to frontend: Teletype\n",
            "dpkg-preconfigure: unable to re-open stdin: \n",
            "Selecting previously unselected package libportaudio2:amd64.\n",
            "(Reading database ... 155639 files and directories currently installed.)\n",
            "Preparing to unpack .../libportaudio2_19.6.0-1_amd64.deb ...\n",
            "Unpacking libportaudio2:amd64 (19.6.0-1) ...\n",
            "Selecting previously unselected package python-pyaudio.\n",
            "Preparing to unpack .../python-pyaudio_0.2.11-1build2_amd64.deb ...\n",
            "Unpacking python-pyaudio (0.2.11-1build2) ...\n",
            "Selecting previously unselected package python3-pyaudio.\n",
            "Preparing to unpack .../python3-pyaudio_0.2.11-1build2_amd64.deb ...\n",
            "Unpacking python3-pyaudio (0.2.11-1build2) ...\n",
            "Setting up libportaudio2:amd64 (19.6.0-1) ...\n",
            "Setting up python-pyaudio (0.2.11-1build2) ...\n",
            "Setting up python3-pyaudio (0.2.11-1build2) ...\n",
            "Processing triggers for libc-bin (2.27-3ubuntu1.3) ...\n",
            "/sbin/ldconfig.real: /usr/local/lib/python3.7/dist-packages/ideep4py/lib/libmkldnn.so.0 is not a symbolic link\n",
            "\n",
            "Looking in indexes: https://pypi.org/simple, https://us-python.pkg.dev/colab-wheels/public/simple/\n",
            "Requirement already satisfied: Ipython in /usr/local/lib/python3.7/dist-packages (5.5.0)\n",
            "Requirement already satisfied: decorator in /usr/local/lib/python3.7/dist-packages (from Ipython) (4.4.2)\n",
            "Requirement already satisfied: pygments in /usr/local/lib/python3.7/dist-packages (from Ipython) (2.6.1)\n",
            "Requirement already satisfied: pickleshare in /usr/local/lib/python3.7/dist-packages (from Ipython) (0.7.5)\n",
            "Requirement already satisfied: setuptools>=18.5 in /usr/local/lib/python3.7/dist-packages (from Ipython) (57.4.0)\n",
            "Requirement already satisfied: traitlets>=4.2 in /usr/local/lib/python3.7/dist-packages (from Ipython) (5.1.1)\n",
            "Requirement already satisfied: prompt-toolkit<2.0.0,>=1.0.4 in /usr/local/lib/python3.7/dist-packages (from Ipython) (1.0.18)\n",
            "Requirement already satisfied: simplegeneric>0.8 in /usr/local/lib/python3.7/dist-packages (from Ipython) (0.8.1)\n",
            "Requirement already satisfied: pexpect in /usr/local/lib/python3.7/dist-packages (from Ipython) (4.8.0)\n",
            "Requirement already satisfied: wcwidth in /usr/local/lib/python3.7/dist-packages (from prompt-toolkit<2.0.0,>=1.0.4->Ipython) (0.2.5)\n",
            "Requirement already satisfied: six>=1.9.0 in /usr/local/lib/python3.7/dist-packages (from prompt-toolkit<2.0.0,>=1.0.4->Ipython) (1.15.0)\n",
            "Requirement already satisfied: ptyprocess>=0.5 in /usr/local/lib/python3.7/dist-packages (from pexpect->Ipython) (0.7.0)\n"
          ]
        }
      ]
    },
    {
      "cell_type": "code",
      "source": [
        "# Libraries\n",
        "import os\n",
        "import zipfile as zp\n",
        "import pickle\n",
        "import json\n",
        "import numpy as np\n",
        "import math\n",
        "\n",
        "import librosa\n",
        "import librosa.display\n",
        "from maad import sound\n",
        "from maad import util\n",
        "\n",
        "import matplotlib.pyplot as plt\n",
        "from google.colab import drive"
      ],
      "metadata": {
        "id": "lv8gM2ZPfIQH"
      },
      "execution_count": 1,
      "outputs": []
    },
    {
      "cell_type": "code",
      "source": [
        "# Para facilitar el ejercicio, descomprimimos los archivos\n",
        "with zp.ZipFile('/content/birdclef-2022.zip', 'r') as zipObj:\n",
        "   # Extraemos todos los archivos dentro del ambiente de trabajo de google colab\n",
        "   zipObj.extractall('temp')\n",
        "   print('File is unzipped in temp folder') "
      ],
      "metadata": {
        "colab": {
          "base_uri": "https://localhost:8080/"
        },
        "id": "-oJ8SVN8qLs_",
        "outputId": "00d56e54-b9ab-44e0-a5f5-5f123f03894f"
      },
      "execution_count": 4,
      "outputs": [
        {
          "output_type": "stream",
          "name": "stdout",
          "text": [
            "File is unzipped in temp folder\n"
          ]
        }
      ]
    },
    {
      "cell_type": "code",
      "source": [
        "# Es necesario guardar todas la imágenes en un objeto\n",
        "dataset_path = '/content/temp/train_audio'\n",
        "\n",
        "# Sólo los que estamos interesados\n",
        "scored_spp = open('/content/temp/scored_birds.json')\n",
        "scored_spp = json.load(scored_spp)\n",
        "\n",
        "\n",
        "# Cantidad de número de muestras por ventana\n",
        "n_fft = 2040\n",
        "# la cantidad de muestras que se cambian despues de cada FFT\n",
        "hop_length = 512\n",
        "# Datos recogidos en cada audio\n",
        "sample_rate = 22050\n",
        "duration = 11\n",
        "sample_per_track = sample_rate * duration\n",
        "\n",
        "# número de segmentos de cada track\n",
        "num_segments = 3\n",
        "\n",
        "num_sample_per_segment = int(sample_per_track / num_segments)\n",
        "expected_num_mfcc_vectors_per_segment = math.ceil(\n",
        "    num_sample_per_segment / hop_length)\n",
        "\n",
        "# Creamos listas vacías\n",
        "spp = []\n",
        "label = []\n",
        "mfcc = []\n",
        "\n",
        "#Loop through all the birds sound\n",
        "for (dirpath,dirnames,filenames) in os.walk(dataset_path):\n",
        "\n",
        "  # ensure that were not at the root level\n",
        "  \n",
        "  if dirpath.split('/')[-1] in scored_spp:\n",
        "      #save the semantic label\n",
        "      print(\"\\nProcessing {}\".format(dirpath.split(\"/\")[-1]))\n",
        "      \n",
        "      #process files for a specific sound\n",
        "      if len(filenames) > 5:\n",
        "        print('Too much files: processing only 5')\n",
        "\n",
        "        try:\n",
        "          for idx, f in enumerate(filenames): \n",
        "            if idx < 5:\n",
        "              #load audio file\n",
        "              print(f'Loading file number {idx}')\n",
        "              file_path = os.path.join(dirpath, f)\n",
        "              signal,sr = librosa.load(file_path, sr = sample_rate)\n",
        "              \n",
        "              # process of segments extracting mfcc and storing data \n",
        "              for s in range(num_segments):\n",
        "                # print(f'------segment {s}')\n",
        "                start_sample = num_sample_per_segment \n",
        "                finish_sample = start_sample + num_sample_per_segment\n",
        "                \n",
        "                mel = librosa.feature.melspectrogram(\n",
        "                                          signal[start_sample:finish_sample],\n",
        "                                          sr =sr,\n",
        "                                          n_fft=n_fft,\n",
        "                                          hop_length=hop_length)\n",
        "                mel = mel.T\n",
        "\n",
        "                            \n",
        "                # Eliminación sonido de fondo\n",
        "                rm_bk, noise_profile, _=sound.remove_background(mel)\n",
        "                power_to_db = librosa.power_to_db(rm_bk, ref=np.max)\n",
        "                \n",
        "                #store mfcc for segment if it has the expected length\n",
        "                if len(power_to_db) == expected_num_mfcc_vectors_per_segment:\n",
        "                  spp.append(dirpath.split(\"/\")[-1])\n",
        "                  mfcc.append(power_to_db.tolist())\n",
        "\n",
        "            continue\n",
        "        except:\n",
        "            pass"
      ],
      "metadata": {
        "id": "v9kFCOL98MBK",
        "colab": {
          "base_uri": "https://localhost:8080/"
        },
        "outputId": "45e60a4a-846b-4293-95c3-96bdac748052"
      },
      "execution_count": 8,
      "outputs": [
        {
          "output_type": "stream",
          "name": "stdout",
          "text": [
            "\n",
            "Processing yefcan\n",
            "Too much files: processing only 5\n",
            "Loading file number 0\n",
            "Loading file number 1\n",
            "Loading file number 2\n",
            "Loading file number 3\n",
            "Loading file number 4\n",
            "\n",
            "Processing houfin\n",
            "Too much files: processing only 5\n",
            "Loading file number 0\n",
            "Loading file number 1\n",
            "Loading file number 2\n",
            "Loading file number 3\n",
            "Loading file number 4\n",
            "\n",
            "Processing aniani\n",
            "Too much files: processing only 5\n",
            "Loading file number 0\n",
            "Loading file number 1\n",
            "Loading file number 2\n",
            "Loading file number 3\n",
            "Loading file number 4\n",
            "\n",
            "Processing barpet\n",
            "Too much files: processing only 5\n",
            "Loading file number 0\n",
            "Loading file number 1\n",
            "Loading file number 2\n",
            "Loading file number 3\n",
            "Loading file number 4\n",
            "\n",
            "Processing omao\n",
            "Too much files: processing only 5\n",
            "Loading file number 0\n",
            "Loading file number 1\n",
            "Loading file number 2\n",
            "Loading file number 3\n",
            "Loading file number 4\n",
            "\n",
            "Processing maupar\n",
            "\n",
            "Processing puaioh\n",
            "\n",
            "Processing jabwar\n",
            "Too much files: processing only 5\n",
            "Loading file number 0\n",
            "Loading file number 1\n",
            "Loading file number 2\n",
            "\n",
            "Processing iiwi\n",
            "Too much files: processing only 5\n",
            "Loading file number 0\n"
          ]
        },
        {
          "output_type": "stream",
          "name": "stderr",
          "text": [
            "/usr/local/lib/python3.7/dist-packages/librosa/core/spectrum.py:224: UserWarning: n_fft=2040 is too small for input signal of length=0\n",
            "  n_fft, y.shape[-1]\n"
          ]
        },
        {
          "output_type": "stream",
          "name": "stdout",
          "text": [
            "Loading file number 1\n",
            "Loading file number 2\n",
            "Loading file number 3\n",
            "Loading file number 4\n",
            "\n",
            "Processing hawhaw\n",
            "\n",
            "Processing hawcre\n",
            "Too much files: processing only 5\n",
            "Loading file number 0\n",
            "Loading file number 1\n",
            "Loading file number 2\n",
            "Loading file number 3\n",
            "Loading file number 4\n",
            "\n",
            "Processing hawama\n",
            "Too much files: processing only 5\n",
            "Loading file number 0\n",
            "Loading file number 1\n",
            "\n",
            "Processing elepai\n",
            "Too much files: processing only 5\n",
            "Loading file number 0\n",
            "Loading file number 1\n",
            "Loading file number 2\n",
            "Loading file number 3\n",
            "Loading file number 4\n",
            "\n",
            "Processing ercfra\n",
            "Too much files: processing only 5\n",
            "Loading file number 0\n",
            "Loading file number 1\n",
            "\n",
            "Processing skylar\n",
            "Too much files: processing only 5\n",
            "Loading file number 0\n",
            "Loading file number 1\n",
            "Loading file number 2\n",
            "Loading file number 3\n",
            "Loading file number 4\n",
            "\n",
            "Processing apapan\n",
            "Too much files: processing only 5\n",
            "Loading file number 0\n",
            "Loading file number 1\n",
            "Loading file number 2\n",
            "Loading file number 3\n",
            "Loading file number 4\n",
            "\n",
            "Processing crehon\n",
            "\n",
            "Processing akiapo\n",
            "Too much files: processing only 5\n",
            "Loading file number 0\n",
            "Loading file number 1\n",
            "Loading file number 2\n",
            "\n",
            "Processing hawgoo\n",
            "Too much files: processing only 5\n",
            "Loading file number 0\n",
            "Loading file number 1\n",
            "Loading file number 2\n",
            "Loading file number 3\n",
            "Loading file number 4\n",
            "\n",
            "Processing hawpet1\n",
            "\n",
            "Processing warwhe1\n",
            "Too much files: processing only 5\n",
            "Loading file number 0\n",
            "Loading file number 1\n",
            "Loading file number 2\n",
            "Loading file number 3\n",
            "Loading file number 4\n"
          ]
        }
      ]
    },
    {
      "cell_type": "code",
      "source": [
        "# Guardamos todo en un objeto\n",
        "data = {\n",
        "  'spp': spp,\n",
        "  'mfcc': mfcc#,\n",
        "  # 'label': label\n",
        "}"
      ],
      "metadata": {
        "id": "aBa9TT3uLmXA"
      },
      "execution_count": 3,
      "outputs": []
    },
    {
      "cell_type": "code",
      "source": [
        "# Comprobamos que se haya cargado bien\n",
        "plt.figure(figsize=(8, 7))\n",
        "librosa.display.specshow(np.array(data['mfcc'][3]), sr=2450, x_axis='time', y_axis='mel', \n",
        "                         cmap='magma', hop_length=hop_length)\n",
        "plt.colorbar(label='dB')\n",
        "plt.title('Mel-Spectrogram (dB)' , fontdict=dict(size=18))\n",
        "plt.xlabel('Time', fontdict=dict(size=15))\n",
        "plt.ylabel('Frequency', fontdict=dict(size=15))\n",
        "plt.show();"
      ],
      "metadata": {
        "id": "dj0BI73g8a4x",
        "outputId": "294295a7-ad1e-4d65-f855-c34205fd92f6",
        "colab": {
          "base_uri": "https://localhost:8080/",
          "height": 467
        }
      },
      "execution_count": 9,
      "outputs": [
        {
          "output_type": "display_data",
          "data": {
            "text/plain": [
              "<Figure size 576x504 with 2 Axes>"
            ],
            "image/png": "[encoded data removed]"
          },
          "metadata": {
            "needs_background": "light"
          }
        }
      ]
    },
    {
      "cell_type": "code",
      "source": [
        "print(len(data['mfcc']))\n",
        "print(len(data['spp']))"
      ],
      "metadata": {
        "colab": {
          "base_uri": "https://localhost:8080/"
        },
        "id": "rHD-ubTJ5aDw",
        "outputId": "5a117f8d-8bcb-4569-b119-9c8cc8cdd2a4"
      },
      "execution_count": 11,
      "outputs": [
        {
          "output_type": "stream",
          "name": "stdout",
          "text": [
            "370\n",
            "370\n"
          ]
        }
      ]
    },
    {
      "cell_type": "code",
      "source": [
        "# Lo guardamos en el google drive\n",
        "drive.mount('/content/gdrive') # WARNING! Pedirá permisos\n",
        "\n",
        "with open('/content/gdrive/MyDrive/Colab Notebooks/mfcc.pickle', 'wb') as file:\n",
        "    pickle.dump(data, file, protocol=pickle.HIGHEST_PROTOCOL)\n"
      ],
      "metadata": {
        "colab": {
          "base_uri": "https://localhost:8080/"
        },
        "id": "BOJz93H6VlTJ",
        "outputId": "73ed1de5-6ee7-45cf-ed16-738f219db58a"
      },
      "execution_count": 12,
      "outputs": [
        {
          "output_type": "stream",
          "name": "stdout",
          "text": [
            "Drive already mounted at /content/gdrive; to attempt to forcibly remount, call drive.mount(\"/content/gdrive\", force_remount=True).\n"
          ]
        }
      ]
    }
  ]
}