{
  "nbformat": 4,
  "nbformat_minor": 0,
  "metadata": {
    "colab": {
      "name": "Train_model.ipynb",
      "provenance": [],
      "collapsed_sections": []
    },
    "kernelspec": {
      "name": "python3",
      "display_name": "Python 3"
    },
    "language_info": {
      "name": "python"
    }
  },
  "cells": [
    {
      "cell_type": "code",
      "execution_count": 19,
      "metadata": {
        "id": "kXGCeGselyFD",
        "colab": {
          "base_uri": "https://localhost:8080/"
        },
        "outputId": "fd4b3bda-a95a-4c1c-fc57-17d7bd830c30"
      },
      "outputs": [
        {
          "output_type": "stream",
          "name": "stdout",
          "text": [
            "Looking in indexes: https://pypi.org/simple, https://us-python.pkg.dev/colab-wheels/public/simple/\n",
            "Collecting scikit-maad\n",
            "  Downloading scikit_maad-1.3-py3-none-any.whl (134 kB)\n",
            "\u001b[K     |████████████████████████████████| 134 kB 5.1 MB/s \n",
            "\u001b[?25hRequirement already satisfied: numpy>=1.19 in /usr/local/lib/python3.7/dist-packages (from scikit-maad) (1.21.6)\n",
            "Requirement already satisfied: pandas>=1.1 in /usr/local/lib/python3.7/dist-packages (from scikit-maad) (1.3.5)\n",
            "Requirement already satisfied: scikit-image>=0.17 in /usr/local/lib/python3.7/dist-packages (from scikit-maad) (0.18.3)\n",
            "Requirement already satisfied: scipy>=1.5 in /usr/local/lib/python3.7/dist-packages (from scikit-maad) (1.7.3)\n",
            "Requirement already satisfied: resampy>=0.2 in /usr/local/lib/python3.7/dist-packages (from scikit-maad) (0.3.1)\n",
            "Requirement already satisfied: pytz>=2017.3 in /usr/local/lib/python3.7/dist-packages (from pandas>=1.1->scikit-maad) (2022.1)\n",
            "Requirement already satisfied: python-dateutil>=2.7.3 in /usr/local/lib/python3.7/dist-packages (from pandas>=1.1->scikit-maad) (2.8.2)\n",
            "Requirement already satisfied: six>=1.5 in /usr/local/lib/python3.7/dist-packages (from python-dateutil>=2.7.3->pandas>=1.1->scikit-maad) (1.15.0)\n",
            "Requirement already satisfied: numba>=0.47 in /usr/local/lib/python3.7/dist-packages (from resampy>=0.2->scikit-maad) (0.51.2)\n",
            "Requirement already satisfied: setuptools in /usr/local/lib/python3.7/dist-packages (from numba>=0.47->resampy>=0.2->scikit-maad) (57.4.0)\n",
            "Requirement already satisfied: llvmlite<0.35,>=0.34.0.dev0 in /usr/local/lib/python3.7/dist-packages (from numba>=0.47->resampy>=0.2->scikit-maad) (0.34.0)\n",
            "Requirement already satisfied: networkx>=2.0 in /usr/local/lib/python3.7/dist-packages (from scikit-image>=0.17->scikit-maad) (2.6.3)\n",
            "Requirement already satisfied: imageio>=2.3.0 in /usr/local/lib/python3.7/dist-packages (from scikit-image>=0.17->scikit-maad) (2.4.1)\n",
            "Requirement already satisfied: PyWavelets>=1.1.1 in /usr/local/lib/python3.7/dist-packages (from scikit-image>=0.17->scikit-maad) (1.3.0)\n",
            "Requirement already satisfied: tifffile>=2019.7.26 in /usr/local/lib/python3.7/dist-packages (from scikit-image>=0.17->scikit-maad) (2021.11.2)\n",
            "Requirement already satisfied: matplotlib!=3.0.0,>=2.0.0 in /usr/local/lib/python3.7/dist-packages (from scikit-image>=0.17->scikit-maad) (3.2.2)\n",
            "Requirement already satisfied: pillow!=7.1.0,!=7.1.1,>=4.3.0 in /usr/local/lib/python3.7/dist-packages (from scikit-image>=0.17->scikit-maad) (7.1.2)\n",
            "Requirement already satisfied: pyparsing!=2.0.4,!=2.1.2,!=2.1.6,>=2.0.1 in /usr/local/lib/python3.7/dist-packages (from matplotlib!=3.0.0,>=2.0.0->scikit-image>=0.17->scikit-maad) (3.0.9)\n",
            "Requirement already satisfied: cycler>=0.10 in /usr/local/lib/python3.7/dist-packages (from matplotlib!=3.0.0,>=2.0.0->scikit-image>=0.17->scikit-maad) (0.11.0)\n",
            "Requirement already satisfied: kiwisolver>=1.0.1 in /usr/local/lib/python3.7/dist-packages (from matplotlib!=3.0.0,>=2.0.0->scikit-image>=0.17->scikit-maad) (1.4.3)\n",
            "Requirement already satisfied: typing-extensions in /usr/local/lib/python3.7/dist-packages (from kiwisolver>=1.0.1->matplotlib!=3.0.0,>=2.0.0->scikit-image>=0.17->scikit-maad) (4.1.1)\n",
            "Installing collected packages: scikit-maad\n",
            "Successfully installed scikit-maad-1.3\n"
          ]
        }
      ],
      "source": [
        "# Librerias\n",
        "from google.colab import drive\n",
        "import pickle\n",
        "\n",
        "import librosa\n",
        "import os\n",
        "! pip install scikit-maad\n",
        "from maad import sound\n",
        "from maad import util\n",
        "\n",
        "import numpy as np\n",
        "from sklearn.model_selection import train_test_split\n",
        "from sklearn.preprocessing import LabelEncoder\n",
        "\n",
        "from keras.models import Sequential\n",
        "from tensorflow.keras.optimizers import Adam\n",
        "from keras.layers import Dense, Dropout, Conv2D, Flatten, MaxPooling2D, BatchNormalization, LSTM\n",
        "\n",
        "import matplotlib.pyplot as plt"
      ]
    },
    {
      "cell_type": "code",
      "source": [
        "drive.mount('/content/gdrive') # WARNING! Pedirá permisos\n",
        "data = open('/content/gdrive/MyDrive/Colab Notebooks/mfcc.pickle','rb')\n",
        "data = pickle.load(data)"
      ],
      "metadata": {
        "id": "RqYg-3VbXCZl",
        "colab": {
          "base_uri": "https://localhost:8080/"
        },
        "outputId": "54d59318-d251-4d1c-fb27-e261bb1fccde"
      },
      "execution_count": 2,
      "outputs": [
        {
          "output_type": "stream",
          "name": "stdout",
          "text": [
            "Mounted at /content/gdrive\n"
          ]
        }
      ]
    },
    {
      "cell_type": "code",
      "source": [
        "x = np.array(data[\"mfcc\"])"
      ],
      "metadata": {
        "id": "aXPkat75iQSb"
      },
      "execution_count": 4,
      "outputs": []
    },
    {
      "cell_type": "code",
      "source": [
        "x.shape"
      ],
      "metadata": {
        "colab": {
          "base_uri": "https://localhost:8080/"
        },
        "id": "rQmRZi38DmwY",
        "outputId": "f0326ce7-fad9-4ebe-9dd1-38257d50bd22"
      },
      "execution_count": 5,
      "outputs": [
        {
          "output_type": "execute_result",
          "data": {
            "text/plain": [
              "(482, 519, 20)"
            ]
          },
          "metadata": {},
          "execution_count": 5
        }
      ]
    },
    {
      "cell_type": "code",
      "source": [
        "# Label encoder para la variable dependiente\n",
        "y_encoder = LabelEncoder()\n",
        "y_encoder.fit(data['spp'])\n",
        "y = y_encoder.transform(data['spp'])\n",
        "y"
      ],
      "metadata": {
        "id": "XNMwVb3wxruT",
        "colab": {
          "base_uri": "https://localhost:8080/"
        },
        "outputId": "9dfa9a25-24c8-4217-e451-d6f13ed7f9c5"
      },
      "execution_count": 6,
      "outputs": [
        {
          "output_type": "execute_result",
          "data": {
            "text/plain": [
              "array([19, 19, 19, 19, 19, 19, 19, 19, 19, 19, 19, 19, 19, 19, 19, 19, 19,\n",
              "       19, 19, 18, 18, 18, 18, 18, 18, 18, 18, 18, 18, 18, 18, 18,  1,  1,\n",
              "        1,  1,  1,  1,  1,  1,  1,  1,  1,  1,  1,  1,  1,  2,  2,  2,  2,\n",
              "        2,  2,  2,  2,  2,  2,  2,  2,  2,  2,  2,  2,  2,  2,  2,  2,  2,\n",
              "        2,  2,  2,  2,  2,  2,  2,  2,  2,  2,  2,  2,  2,  2,  2,  2,  2,\n",
              "        2,  2,  2,  2,  2,  2,  2,  2,  2,  2,  2,  2,  2,  2,  6,  6,  6,\n",
              "        6,  5,  5,  5,  5,  5,  5,  5,  5,  5,  5,  5,  4,  4,  4,  4,  4,\n",
              "        4,  4,  4,  4,  4,  4,  4,  4,  4, 12, 12, 12, 12, 12, 12,  7,  7,\n",
              "        7,  7,  7,  7,  7,  7,  7,  7,  7, 15, 15, 15, 15, 15, 15, 15, 15,\n",
              "       15, 15, 15, 15, 15, 15, 15, 15, 15, 15, 15, 15, 15, 15, 15, 15, 15,\n",
              "       15, 15, 15, 15, 15, 20, 20, 20, 20, 20, 20, 20, 20, 20, 20, 20, 20,\n",
              "       20, 20, 20, 20, 20, 20, 20, 20, 20, 20, 20, 20, 20, 20, 20, 20, 16,\n",
              "       16, 16, 16, 16, 16, 16, 16, 16, 16, 16, 16, 16, 16,  0,  0,  0,  0,\n",
              "        0,  0,  0,  0,  0,  0,  0,  0,  0,  0,  0,  0,  0,  0,  0,  0,  0,\n",
              "        0,  0,  0,  0,  0,  0,  0,  0,  0,  0,  0,  0,  0,  0,  0,  0,  0,\n",
              "        0,  0,  0,  0,  0,  0,  0,  0,  0,  0,  0,  0,  0,  0,  0,  0,  0,\n",
              "        0, 10, 10, 10, 10, 10, 10, 10, 10, 10, 10, 10, 10, 10, 10, 10, 10,\n",
              "       10, 10, 10, 10, 10, 10, 10, 10, 10, 10, 10, 10, 10, 10, 10, 10, 13,\n",
              "       13, 13, 13, 13, 13, 13, 13, 13, 13, 13, 13, 13, 13, 13, 14, 14, 14,\n",
              "       14, 14, 14, 14, 14, 14, 14, 14, 14, 14, 14, 14, 14, 14, 14, 14, 14,\n",
              "       14, 14, 14, 14, 14, 14, 14, 14, 14,  3,  3,  3,  3,  3,  3,  3,  3,\n",
              "        3,  3,  3,  3,  3,  3,  3,  3,  3,  3,  3,  3,  3,  3,  3,  3,  3,\n",
              "        3,  3,  3,  3,  3,  3,  3,  3,  3,  3,  3,  3,  3,  3,  3,  3,  3,\n",
              "        3,  3,  3,  3,  3,  3,  3,  3,  3,  3,  3,  3,  3,  3,  3,  3,  3,\n",
              "        3,  3,  3,  3,  3,  3,  3,  3,  3,  9,  9,  9,  9,  9,  9,  9,  9,\n",
              "        9,  9,  9,  9,  9,  9,  9,  9,  8,  8,  8,  8,  8,  8,  8,  8,  8,\n",
              "        8,  8,  8,  8,  8,  8,  8,  8,  8,  8,  8,  8,  8,  8,  8,  8,  8,\n",
              "       17, 17, 17, 17, 11, 11, 11, 11, 11, 11, 11, 11, 11, 11, 11, 11, 11,\n",
              "       11, 11, 11, 11, 11, 11])"
            ]
          },
          "metadata": {},
          "execution_count": 6
        }
      ]
    },
    {
      "cell_type": "code",
      "source": [
        "# Creamos train, validation and test split\n",
        "x_train, x_test, y_train, y_test = train_test_split(x, y, test_size=0.20, random_state = 1234567)\n",
        "x_train, x_validation, y_train, y_validation = train_test_split(x_train, y_train, test_size=0.15, random_state = 1234567)\n",
        "print(f'x_train shape: {x_train.shape}')"
      ],
      "metadata": {
        "colab": {
          "base_uri": "https://localhost:8080/"
        },
        "id": "-jSMMGNODtd2",
        "outputId": "04af8c14-05cf-4a52-eb3f-5f27d4b2b7eb"
      },
      "execution_count": 7,
      "outputs": [
        {
          "output_type": "stream",
          "name": "stdout",
          "text": [
            "x_train shape: (327, 519, 20)\n"
          ]
        }
      ]
    },
    {
      "cell_type": "code",
      "source": [
        "input_shape = (x_train.shape[1], x_train.shape[2]) \n",
        "input_shape\n",
        "\n",
        "# build network topology\n",
        "model = Sequential()\n",
        "\n",
        "# 2 LSTM layers\n",
        "model.add(LSTM(64, input_shape=input_shape, return_sequences=True))\n",
        "model.add(LSTM(64))\n",
        "model.add(Dropout(0.1))\n",
        "\n",
        "# dense layer\n",
        "model.add(Dense(32, activation='relu'))\n",
        "model.add(Dropout(0.3))\n",
        "\n",
        "# output layer\n",
        "model.add(Dense(21, activation='softmax'))\n",
        "\n",
        "optimiser = Adam(learning_rate=0.0002)\n",
        "model.compile(optimizer=optimiser,\n",
        "              loss = 'sparse_categorical_crossentropy',\n",
        "              metrics=['accuracy'])"
      ],
      "metadata": {
        "id": "GCXhQveEoRLx"
      },
      "execution_count": 10,
      "outputs": []
    },
    {
      "cell_type": "code",
      "source": [
        "history = model.fit(x_train, y_train, validation_data=(x_validation, y_validation), batch_size = 128, epochs=150)"
      ],
      "metadata": {
        "colab": {
          "base_uri": "https://localhost:8080/"
        },
        "id": "SCo_YqD7Dx2u",
        "outputId": "101515ed-0213-4d1e-bb22-a51dba3862d9"
      },
      "execution_count": 11,
      "outputs": [
        {
          "output_type": "stream",
          "name": "stdout",
          "text": [
            "Epoch 1/150\n",
            "3/3 [==============================] - 10s 2s/step - loss: 3.0855 - accuracy: 0.0489 - val_loss: 3.0400 - val_accuracy: 0.0000e+00\n",
            "Epoch 2/150\n",
            "3/3 [==============================] - 5s 2s/step - loss: 3.0437 - accuracy: 0.0428 - val_loss: 3.0183 - val_accuracy: 0.0000e+00\n",
            "Epoch 3/150\n",
            "3/3 [==============================] - 3s 1s/step - loss: 3.0230 - accuracy: 0.0550 - val_loss: 2.9985 - val_accuracy: 0.1379\n",
            "Epoch 4/150\n",
            "3/3 [==============================] - 4s 1s/step - loss: 2.9869 - accuracy: 0.1009 - val_loss: 2.9852 - val_accuracy: 0.2069\n",
            "Epoch 5/150\n",
            "3/3 [==============================] - 3s 1s/step - loss: 2.9748 - accuracy: 0.1070 - val_loss: 2.9704 - val_accuracy: 0.2069\n",
            "Epoch 6/150\n",
            "3/3 [==============================] - 4s 1s/step - loss: 2.9778 - accuracy: 0.1162 - val_loss: 2.9548 - val_accuracy: 0.2241\n",
            "Epoch 7/150\n",
            "3/3 [==============================] - 4s 2s/step - loss: 2.9270 - accuracy: 0.1407 - val_loss: 2.9407 - val_accuracy: 0.2069\n",
            "Epoch 8/150\n",
            "3/3 [==============================] - 5s 2s/step - loss: 2.9438 - accuracy: 0.1284 - val_loss: 2.9286 - val_accuracy: 0.2069\n",
            "Epoch 9/150\n",
            "3/3 [==============================] - 4s 1s/step - loss: 2.9169 - accuracy: 0.1498 - val_loss: 2.9165 - val_accuracy: 0.2241\n",
            "Epoch 10/150\n",
            "3/3 [==============================] - 4s 1s/step - loss: 2.9254 - accuracy: 0.1682 - val_loss: 2.9016 - val_accuracy: 0.2069\n",
            "Epoch 11/150\n",
            "3/3 [==============================] - 3s 1s/step - loss: 2.8993 - accuracy: 0.1437 - val_loss: 2.8928 - val_accuracy: 0.2241\n",
            "Epoch 12/150\n",
            "3/3 [==============================] - 3s 1s/step - loss: 2.9040 - accuracy: 0.1529 - val_loss: 2.8822 - val_accuracy: 0.2241\n",
            "Epoch 13/150\n",
            "3/3 [==============================] - 4s 1s/step - loss: 2.8953 - accuracy: 0.1498 - val_loss: 2.8735 - val_accuracy: 0.2586\n",
            "Epoch 14/150\n",
            "3/3 [==============================] - 4s 2s/step - loss: 2.9073 - accuracy: 0.1315 - val_loss: 2.8662 - val_accuracy: 0.2586\n",
            "Epoch 15/150\n",
            "3/3 [==============================] - 7s 2s/step - loss: 2.8749 - accuracy: 0.1498 - val_loss: 2.8603 - val_accuracy: 0.2414\n",
            "Epoch 16/150\n",
            "3/3 [==============================] - 4s 1s/step - loss: 2.8569 - accuracy: 0.1590 - val_loss: 2.8529 - val_accuracy: 0.2586\n",
            "Epoch 17/150\n",
            "3/3 [==============================] - 3s 1s/step - loss: 2.8700 - accuracy: 0.1560 - val_loss: 2.8490 - val_accuracy: 0.2414\n",
            "Epoch 18/150\n",
            "3/3 [==============================] - 3s 1s/step - loss: 2.8465 - accuracy: 0.1560 - val_loss: 2.8446 - val_accuracy: 0.2241\n",
            "Epoch 19/150\n",
            "3/3 [==============================] - 3s 1s/step - loss: 2.8625 - accuracy: 0.1498 - val_loss: 2.8366 - val_accuracy: 0.2241\n",
            "Epoch 20/150\n",
            "3/3 [==============================] - 3s 1s/step - loss: 2.8437 - accuracy: 0.1621 - val_loss: 2.8275 - val_accuracy: 0.2069\n",
            "Epoch 21/150\n",
            "3/3 [==============================] - 4s 1s/step - loss: 2.8540 - accuracy: 0.1529 - val_loss: 2.8192 - val_accuracy: 0.1724\n",
            "Epoch 22/150\n",
            "3/3 [==============================] - 4s 1s/step - loss: 2.8441 - accuracy: 0.1621 - val_loss: 2.8108 - val_accuracy: 0.1897\n",
            "Epoch 23/150\n",
            "3/3 [==============================] - 3s 1s/step - loss: 2.8281 - accuracy: 0.1682 - val_loss: 2.8047 - val_accuracy: 0.1552\n",
            "Epoch 24/150\n",
            "3/3 [==============================] - 3s 1s/step - loss: 2.8034 - accuracy: 0.1774 - val_loss: 2.7983 - val_accuracy: 0.1552\n",
            "Epoch 25/150\n",
            "3/3 [==============================] - 4s 1s/step - loss: 2.8290 - accuracy: 0.1376 - val_loss: 2.7925 - val_accuracy: 0.1552\n",
            "Epoch 26/150\n",
            "3/3 [==============================] - 5s 2s/step - loss: 2.8186 - accuracy: 0.1590 - val_loss: 2.7870 - val_accuracy: 0.1552\n",
            "Epoch 27/150\n",
            "3/3 [==============================] - 4s 1s/step - loss: 2.7962 - accuracy: 0.1621 - val_loss: 2.7857 - val_accuracy: 0.1552\n",
            "Epoch 28/150\n",
            "3/3 [==============================] - 4s 1s/step - loss: 2.7989 - accuracy: 0.1529 - val_loss: 2.7833 - val_accuracy: 0.1552\n",
            "Epoch 29/150\n",
            "3/3 [==============================] - 3s 1s/step - loss: 2.8015 - accuracy: 0.1651 - val_loss: 2.7778 - val_accuracy: 0.1552\n",
            "Epoch 30/150\n",
            "3/3 [==============================] - 3s 1s/step - loss: 2.7822 - accuracy: 0.1896 - val_loss: 2.7743 - val_accuracy: 0.1552\n",
            "Epoch 31/150\n",
            "3/3 [==============================] - 3s 1s/step - loss: 2.7924 - accuracy: 0.1743 - val_loss: 2.7657 - val_accuracy: 0.1552\n",
            "Epoch 32/150\n",
            "3/3 [==============================] - 3s 1s/step - loss: 2.7808 - accuracy: 0.1621 - val_loss: 2.7560 - val_accuracy: 0.1897\n",
            "Epoch 33/150\n",
            "3/3 [==============================] - 3s 1s/step - loss: 2.7525 - accuracy: 0.1835 - val_loss: 2.7490 - val_accuracy: 0.2241\n",
            "Epoch 34/150\n",
            "3/3 [==============================] - 3s 1s/step - loss: 2.7683 - accuracy: 0.1804 - val_loss: 2.7454 - val_accuracy: 0.2069\n",
            "Epoch 35/150\n",
            "3/3 [==============================] - 3s 1s/step - loss: 2.7192 - accuracy: 0.1621 - val_loss: 2.7363 - val_accuracy: 0.1552\n",
            "Epoch 36/150\n",
            "3/3 [==============================] - 3s 1s/step - loss: 2.7346 - accuracy: 0.1835 - val_loss: 2.7229 - val_accuracy: 0.1724\n",
            "Epoch 37/150\n",
            "3/3 [==============================] - 3s 1s/step - loss: 2.7268 - accuracy: 0.1804 - val_loss: 2.7179 - val_accuracy: 0.2414\n",
            "Epoch 38/150\n",
            "3/3 [==============================] - 4s 1s/step - loss: 2.6937 - accuracy: 0.1927 - val_loss: 2.7129 - val_accuracy: 0.2241\n",
            "Epoch 39/150\n",
            "3/3 [==============================] - 3s 1s/step - loss: 2.7112 - accuracy: 0.1927 - val_loss: 2.6864 - val_accuracy: 0.2759\n",
            "Epoch 40/150\n",
            "3/3 [==============================] - 3s 1s/step - loss: 2.7140 - accuracy: 0.1957 - val_loss: 2.6892 - val_accuracy: 0.2759\n",
            "Epoch 41/150\n",
            "3/3 [==============================] - 4s 1s/step - loss: 2.6838 - accuracy: 0.2049 - val_loss: 2.6813 - val_accuracy: 0.2759\n",
            "Epoch 42/150\n",
            "3/3 [==============================] - 4s 1s/step - loss: 2.6752 - accuracy: 0.2018 - val_loss: 2.6824 - val_accuracy: 0.2759\n",
            "Epoch 43/150\n",
            "3/3 [==============================] - 3s 1s/step - loss: 2.7044 - accuracy: 0.1988 - val_loss: 2.6766 - val_accuracy: 0.2759\n",
            "Epoch 44/150\n",
            "3/3 [==============================] - 3s 1s/step - loss: 2.6828 - accuracy: 0.1988 - val_loss: 2.6690 - val_accuracy: 0.2759\n",
            "Epoch 45/150\n",
            "3/3 [==============================] - 3s 1s/step - loss: 2.6561 - accuracy: 0.1927 - val_loss: 2.6396 - val_accuracy: 0.2586\n",
            "Epoch 46/150\n",
            "3/3 [==============================] - 4s 1s/step - loss: 2.6444 - accuracy: 0.2263 - val_loss: 2.6188 - val_accuracy: 0.2586\n",
            "Epoch 47/150\n",
            "3/3 [==============================] - 3s 1s/step - loss: 2.6357 - accuracy: 0.2385 - val_loss: 2.5939 - val_accuracy: 0.2586\n",
            "Epoch 48/150\n",
            "3/3 [==============================] - 4s 1s/step - loss: 2.6125 - accuracy: 0.2630 - val_loss: 2.5921 - val_accuracy: 0.2759\n",
            "Epoch 49/150\n",
            "3/3 [==============================] - 4s 1s/step - loss: 2.6335 - accuracy: 0.2324 - val_loss: 2.5628 - val_accuracy: 0.2759\n",
            "Epoch 50/150\n",
            "3/3 [==============================] - 3s 1s/step - loss: 2.6224 - accuracy: 0.2355 - val_loss: 2.5644 - val_accuracy: 0.2759\n",
            "Epoch 51/150\n",
            "3/3 [==============================] - 4s 1s/step - loss: 2.6766 - accuracy: 0.2416 - val_loss: 2.6087 - val_accuracy: 0.2586\n",
            "Epoch 52/150\n",
            "3/3 [==============================] - 3s 1s/step - loss: 2.6371 - accuracy: 0.2569 - val_loss: 2.6078 - val_accuracy: 0.2759\n",
            "Epoch 53/150\n",
            "3/3 [==============================] - 3s 1s/step - loss: 2.6605 - accuracy: 0.2202 - val_loss: 2.6348 - val_accuracy: 0.2414\n",
            "Epoch 54/150\n",
            "3/3 [==============================] - 4s 1s/step - loss: 2.6386 - accuracy: 0.2232 - val_loss: 2.5728 - val_accuracy: 0.2931\n",
            "Epoch 55/150\n",
            "3/3 [==============================] - 4s 1s/step - loss: 2.6649 - accuracy: 0.2232 - val_loss: 2.5906 - val_accuracy: 0.2759\n",
            "Epoch 56/150\n",
            "3/3 [==============================] - 3s 1s/step - loss: 2.6648 - accuracy: 0.2538 - val_loss: 2.5794 - val_accuracy: 0.2931\n",
            "Epoch 57/150\n",
            "3/3 [==============================] - 4s 1s/step - loss: 2.5994 - accuracy: 0.2446 - val_loss: 2.5807 - val_accuracy: 0.3276\n",
            "Epoch 58/150\n",
            "3/3 [==============================] - 4s 1s/step - loss: 2.6056 - accuracy: 0.2385 - val_loss: 2.5587 - val_accuracy: 0.3276\n",
            "Epoch 59/150\n",
            "3/3 [==============================] - 3s 1s/step - loss: 2.5969 - accuracy: 0.2630 - val_loss: 2.5628 - val_accuracy: 0.3103\n",
            "Epoch 60/150\n",
            "3/3 [==============================] - 3s 1s/step - loss: 2.6015 - accuracy: 0.2508 - val_loss: 2.5618 - val_accuracy: 0.2931\n",
            "Epoch 61/150\n",
            "3/3 [==============================] - 3s 1s/step - loss: 2.5571 - accuracy: 0.2569 - val_loss: 2.5465 - val_accuracy: 0.3276\n",
            "Epoch 62/150\n",
            "3/3 [==============================] - 3s 1s/step - loss: 2.5580 - accuracy: 0.2783 - val_loss: 2.5394 - val_accuracy: 0.3103\n",
            "Epoch 63/150\n",
            "3/3 [==============================] - 3s 1s/step - loss: 2.5394 - accuracy: 0.2416 - val_loss: 2.5593 - val_accuracy: 0.3103\n",
            "Epoch 64/150\n",
            "3/3 [==============================] - 3s 1s/step - loss: 2.5974 - accuracy: 0.2385 - val_loss: 2.5213 - val_accuracy: 0.3276\n",
            "Epoch 65/150\n",
            "3/3 [==============================] - 3s 1s/step - loss: 2.5474 - accuracy: 0.2630 - val_loss: 2.4725 - val_accuracy: 0.3276\n",
            "Epoch 66/150\n",
            "3/3 [==============================] - 4s 1s/step - loss: 2.5650 - accuracy: 0.2752 - val_loss: 2.5145 - val_accuracy: 0.3276\n",
            "Epoch 67/150\n",
            "3/3 [==============================] - 5s 1s/step - loss: 2.5114 - accuracy: 0.2691 - val_loss: 2.5137 - val_accuracy: 0.3276\n",
            "Epoch 68/150\n",
            "3/3 [==============================] - 3s 1s/step - loss: 2.5617 - accuracy: 0.2508 - val_loss: 2.5241 - val_accuracy: 0.2931\n",
            "Epoch 69/150\n",
            "3/3 [==============================] - 3s 1s/step - loss: 2.5411 - accuracy: 0.2722 - val_loss: 2.4884 - val_accuracy: 0.3276\n",
            "Epoch 70/150\n",
            "3/3 [==============================] - 3s 1s/step - loss: 2.5340 - accuracy: 0.2630 - val_loss: 2.4777 - val_accuracy: 0.3103\n",
            "Epoch 71/150\n",
            "3/3 [==============================] - 4s 1s/step - loss: 2.4797 - accuracy: 0.2783 - val_loss: 2.4209 - val_accuracy: 0.3276\n",
            "Epoch 72/150\n",
            "3/3 [==============================] - 4s 2s/step - loss: 2.4841 - accuracy: 0.2783 - val_loss: 2.4257 - val_accuracy: 0.3276\n",
            "Epoch 73/150\n",
            "3/3 [==============================] - 4s 1s/step - loss: 2.4999 - accuracy: 0.2569 - val_loss: 2.4796 - val_accuracy: 0.3276\n",
            "Epoch 74/150\n",
            "3/3 [==============================] - 4s 1s/step - loss: 2.5165 - accuracy: 0.2813 - val_loss: 2.4126 - val_accuracy: 0.3103\n",
            "Epoch 75/150\n",
            "3/3 [==============================] - 5s 2s/step - loss: 2.4940 - accuracy: 0.2997 - val_loss: 2.3977 - val_accuracy: 0.3448\n",
            "Epoch 76/150\n",
            "3/3 [==============================] - 3s 1s/step - loss: 2.4741 - accuracy: 0.2630 - val_loss: 2.4246 - val_accuracy: 0.3276\n",
            "Epoch 77/150\n",
            "3/3 [==============================] - 3s 1s/step - loss: 2.4508 - accuracy: 0.3028 - val_loss: 2.4360 - val_accuracy: 0.3448\n",
            "Epoch 78/150\n",
            "3/3 [==============================] - 3s 1s/step - loss: 2.5110 - accuracy: 0.2630 - val_loss: 2.4980 - val_accuracy: 0.3103\n",
            "Epoch 79/150\n",
            "3/3 [==============================] - 4s 2s/step - loss: 2.5162 - accuracy: 0.2691 - val_loss: 2.5028 - val_accuracy: 0.3103\n",
            "Epoch 80/150\n",
            "3/3 [==============================] - 3s 1s/step - loss: 2.5146 - accuracy: 0.2538 - val_loss: 2.4962 - val_accuracy: 0.2759\n",
            "Epoch 81/150\n",
            "3/3 [==============================] - 4s 1s/step - loss: 2.5431 - accuracy: 0.2661 - val_loss: 2.4839 - val_accuracy: 0.3276\n",
            "Epoch 82/150\n",
            "3/3 [==============================] - 3s 1s/step - loss: 2.5456 - accuracy: 0.2661 - val_loss: 2.4970 - val_accuracy: 0.3276\n",
            "Epoch 83/150\n",
            "3/3 [==============================] - 3s 1s/step - loss: 2.4906 - accuracy: 0.2783 - val_loss: 2.4491 - val_accuracy: 0.2931\n",
            "Epoch 84/150\n",
            "3/3 [==============================] - 3s 1s/step - loss: 2.4783 - accuracy: 0.2630 - val_loss: 2.4420 - val_accuracy: 0.2931\n",
            "Epoch 85/150\n",
            "3/3 [==============================] - 6s 2s/step - loss: 2.5109 - accuracy: 0.2783 - val_loss: 2.4653 - val_accuracy: 0.3103\n",
            "Epoch 86/150\n",
            "3/3 [==============================] - 4s 1s/step - loss: 2.5075 - accuracy: 0.2599 - val_loss: 2.4230 - val_accuracy: 0.3276\n",
            "Epoch 87/150\n",
            "3/3 [==============================] - 4s 1s/step - loss: 2.4333 - accuracy: 0.3242 - val_loss: 2.3941 - val_accuracy: 0.3103\n",
            "Epoch 88/150\n",
            "3/3 [==============================] - 3s 1s/step - loss: 2.4236 - accuracy: 0.2875 - val_loss: 2.3963 - val_accuracy: 0.3276\n",
            "Epoch 89/150\n",
            "3/3 [==============================] - 3s 1s/step - loss: 2.4913 - accuracy: 0.2813 - val_loss: 2.3621 - val_accuracy: 0.3103\n",
            "Epoch 90/150\n",
            "3/3 [==============================] - 3s 1s/step - loss: 2.4177 - accuracy: 0.2966 - val_loss: 2.3546 - val_accuracy: 0.3276\n",
            "Epoch 91/150\n",
            "3/3 [==============================] - 3s 1s/step - loss: 2.4283 - accuracy: 0.2997 - val_loss: 2.3463 - val_accuracy: 0.3448\n",
            "Epoch 92/150\n",
            "3/3 [==============================] - 3s 1s/step - loss: 2.4009 - accuracy: 0.3119 - val_loss: 2.3188 - val_accuracy: 0.3448\n",
            "Epoch 93/150\n",
            "3/3 [==============================] - 4s 1s/step - loss: 2.4139 - accuracy: 0.3211 - val_loss: 2.3458 - val_accuracy: 0.3276\n",
            "Epoch 94/150\n",
            "3/3 [==============================] - 4s 1s/step - loss: 2.4072 - accuracy: 0.3119 - val_loss: 2.3432 - val_accuracy: 0.3276\n",
            "Epoch 95/150\n",
            "3/3 [==============================] - 4s 1s/step - loss: 2.4226 - accuracy: 0.2997 - val_loss: 2.3326 - val_accuracy: 0.3448\n",
            "Epoch 96/150\n",
            "3/3 [==============================] - 3s 1s/step - loss: 2.4046 - accuracy: 0.2905 - val_loss: 2.3765 - val_accuracy: 0.3448\n",
            "Epoch 97/150\n",
            "3/3 [==============================] - 3s 1s/step - loss: 2.4275 - accuracy: 0.2997 - val_loss: 2.4010 - val_accuracy: 0.3276\n",
            "Epoch 98/150\n",
            "3/3 [==============================] - 3s 1s/step - loss: 2.4284 - accuracy: 0.2905 - val_loss: 2.4089 - val_accuracy: 0.3448\n",
            "Epoch 99/150\n",
            "3/3 [==============================] - 3s 1s/step - loss: 2.4493 - accuracy: 0.3272 - val_loss: 2.4026 - val_accuracy: 0.3448\n",
            "Epoch 100/150\n",
            "3/3 [==============================] - 4s 1s/step - loss: 2.4390 - accuracy: 0.2966 - val_loss: 2.4757 - val_accuracy: 0.3276\n",
            "Epoch 101/150\n",
            "3/3 [==============================] - 3s 1s/step - loss: 2.4612 - accuracy: 0.2966 - val_loss: 2.4498 - val_accuracy: 0.2931\n",
            "Epoch 102/150\n",
            "3/3 [==============================] - 3s 1s/step - loss: 2.4267 - accuracy: 0.2783 - val_loss: 2.4598 - val_accuracy: 0.2931\n",
            "Epoch 103/150\n",
            "3/3 [==============================] - 4s 1s/step - loss: 2.4286 - accuracy: 0.3058 - val_loss: 2.4222 - val_accuracy: 0.3103\n",
            "Epoch 104/150\n",
            "3/3 [==============================] - 4s 1s/step - loss: 2.4418 - accuracy: 0.3028 - val_loss: 2.3920 - val_accuracy: 0.3103\n",
            "Epoch 105/150\n",
            "3/3 [==============================] - 4s 2s/step - loss: 2.4008 - accuracy: 0.3150 - val_loss: 2.3756 - val_accuracy: 0.3276\n",
            "Epoch 106/150\n",
            "3/3 [==============================] - 4s 1s/step - loss: 2.4583 - accuracy: 0.2691 - val_loss: 2.4070 - val_accuracy: 0.3276\n",
            "Epoch 107/150\n",
            "3/3 [==============================] - 3s 1s/step - loss: 2.4330 - accuracy: 0.3028 - val_loss: 2.3862 - val_accuracy: 0.3276\n",
            "Epoch 108/150\n",
            "3/3 [==============================] - 3s 1s/step - loss: 2.3984 - accuracy: 0.2813 - val_loss: 2.3906 - val_accuracy: 0.3276\n",
            "Epoch 109/150\n",
            "3/3 [==============================] - 3s 1s/step - loss: 2.4735 - accuracy: 0.2783 - val_loss: 2.5567 - val_accuracy: 0.2586\n",
            "Epoch 110/150\n",
            "3/3 [==============================] - 3s 1s/step - loss: 2.5090 - accuracy: 0.2936 - val_loss: 2.5737 - val_accuracy: 0.2414\n",
            "Epoch 111/150\n",
            "3/3 [==============================] - 4s 1s/step - loss: 2.5207 - accuracy: 0.2722 - val_loss: 2.5780 - val_accuracy: 0.2586\n",
            "Epoch 112/150\n",
            "3/3 [==============================] - 4s 1s/step - loss: 2.4953 - accuracy: 0.2813 - val_loss: 2.5737 - val_accuracy: 0.2586\n",
            "Epoch 113/150\n",
            "3/3 [==============================] - 4s 1s/step - loss: 2.5248 - accuracy: 0.2783 - val_loss: 2.5191 - val_accuracy: 0.2586\n",
            "Epoch 114/150\n",
            "3/3 [==============================] - 3s 1s/step - loss: 2.4845 - accuracy: 0.2477 - val_loss: 2.5152 - val_accuracy: 0.2586\n",
            "Epoch 115/150\n",
            "3/3 [==============================] - 3s 1s/step - loss: 2.4944 - accuracy: 0.2569 - val_loss: 2.4981 - val_accuracy: 0.2586\n",
            "Epoch 116/150\n",
            "3/3 [==============================] - 3s 1s/step - loss: 2.4503 - accuracy: 0.2813 - val_loss: 2.4592 - val_accuracy: 0.2586\n",
            "Epoch 117/150\n",
            "3/3 [==============================] - 3s 1s/step - loss: 2.5013 - accuracy: 0.2630 - val_loss: 2.5012 - val_accuracy: 0.2414\n",
            "Epoch 118/150\n",
            "3/3 [==============================] - 3s 1s/step - loss: 2.4694 - accuracy: 0.2508 - val_loss: 2.4817 - val_accuracy: 0.2414\n",
            "Epoch 119/150\n",
            "3/3 [==============================] - 3s 1s/step - loss: 2.4219 - accuracy: 0.2875 - val_loss: 2.4931 - val_accuracy: 0.2414\n",
            "Epoch 120/150\n",
            "3/3 [==============================] - 3s 1s/step - loss: 2.4707 - accuracy: 0.2691 - val_loss: 2.5646 - val_accuracy: 0.2241\n",
            "Epoch 121/150\n",
            "3/3 [==============================] - 3s 1s/step - loss: 2.4960 - accuracy: 0.2691 - val_loss: 2.4883 - val_accuracy: 0.2586\n",
            "Epoch 122/150\n",
            "3/3 [==============================] - 3s 1s/step - loss: 2.4863 - accuracy: 0.2752 - val_loss: 2.4493 - val_accuracy: 0.2759\n",
            "Epoch 123/150\n",
            "3/3 [==============================] - 3s 1s/step - loss: 2.4105 - accuracy: 0.2813 - val_loss: 2.4161 - val_accuracy: 0.3103\n",
            "Epoch 124/150\n",
            "3/3 [==============================] - 3s 1s/step - loss: 2.3945 - accuracy: 0.3058 - val_loss: 2.4057 - val_accuracy: 0.2931\n",
            "Epoch 125/150\n",
            "3/3 [==============================] - 3s 1s/step - loss: 2.4334 - accuracy: 0.2875 - val_loss: 2.3934 - val_accuracy: 0.2931\n",
            "Epoch 126/150\n",
            "3/3 [==============================] - 3s 1s/step - loss: 2.3419 - accuracy: 0.2966 - val_loss: 2.3731 - val_accuracy: 0.3103\n",
            "Epoch 127/150\n",
            "3/3 [==============================] - 3s 1s/step - loss: 2.3508 - accuracy: 0.3089 - val_loss: 2.3545 - val_accuracy: 0.3276\n",
            "Epoch 128/150\n",
            "3/3 [==============================] - 3s 1s/step - loss: 2.3678 - accuracy: 0.2997 - val_loss: 2.4042 - val_accuracy: 0.3103\n",
            "Epoch 129/150\n",
            "3/3 [==============================] - 3s 1s/step - loss: 2.4105 - accuracy: 0.2783 - val_loss: 2.3187 - val_accuracy: 0.3621\n",
            "Epoch 130/150\n",
            "3/3 [==============================] - 3s 1s/step - loss: 2.3894 - accuracy: 0.2936 - val_loss: 2.3381 - val_accuracy: 0.3103\n",
            "Epoch 131/150\n",
            "3/3 [==============================] - 3s 1s/step - loss: 2.4127 - accuracy: 0.2905 - val_loss: 2.3582 - val_accuracy: 0.3276\n",
            "Epoch 132/150\n",
            "3/3 [==============================] - 3s 1s/step - loss: 2.3897 - accuracy: 0.2966 - val_loss: 2.4304 - val_accuracy: 0.2931\n",
            "Epoch 133/150\n",
            "3/3 [==============================] - 3s 1s/step - loss: 2.5093 - accuracy: 0.2752 - val_loss: 2.3111 - val_accuracy: 0.3448\n",
            "Epoch 134/150\n",
            "3/3 [==============================] - 3s 1s/step - loss: 2.4063 - accuracy: 0.2997 - val_loss: 2.3420 - val_accuracy: 0.3103\n",
            "Epoch 135/150\n",
            "3/3 [==============================] - 3s 1s/step - loss: 2.3859 - accuracy: 0.2997 - val_loss: 2.3033 - val_accuracy: 0.3103\n",
            "Epoch 136/150\n",
            "3/3 [==============================] - 3s 1s/step - loss: 2.3140 - accuracy: 0.3028 - val_loss: 2.3356 - val_accuracy: 0.3276\n",
            "Epoch 137/150\n",
            "3/3 [==============================] - 3s 1s/step - loss: 2.3243 - accuracy: 0.3456 - val_loss: 2.3265 - val_accuracy: 0.3276\n",
            "Epoch 138/150\n",
            "3/3 [==============================] - 3s 1s/step - loss: 2.3850 - accuracy: 0.3272 - val_loss: 2.3177 - val_accuracy: 0.3448\n",
            "Epoch 139/150\n",
            "3/3 [==============================] - 3s 1s/step - loss: 2.3182 - accuracy: 0.3058 - val_loss: 2.3516 - val_accuracy: 0.3276\n",
            "Epoch 140/150\n",
            "3/3 [==============================] - 3s 1s/step - loss: 2.3990 - accuracy: 0.3028 - val_loss: 2.3021 - val_accuracy: 0.3621\n",
            "Epoch 141/150\n",
            "3/3 [==============================] - 3s 1s/step - loss: 2.3373 - accuracy: 0.3272 - val_loss: 2.3023 - val_accuracy: 0.3276\n",
            "Epoch 142/150\n",
            "3/3 [==============================] - 3s 1s/step - loss: 2.3290 - accuracy: 0.2813 - val_loss: 2.2695 - val_accuracy: 0.3448\n",
            "Epoch 143/150\n",
            "3/3 [==============================] - 3s 1s/step - loss: 2.3069 - accuracy: 0.3211 - val_loss: 2.2938 - val_accuracy: 0.3276\n",
            "Epoch 144/150\n",
            "3/3 [==============================] - 3s 1s/step - loss: 2.3244 - accuracy: 0.3180 - val_loss: 2.3209 - val_accuracy: 0.3621\n",
            "Epoch 145/150\n",
            "3/3 [==============================] - 3s 1s/step - loss: 2.3241 - accuracy: 0.3242 - val_loss: 2.3231 - val_accuracy: 0.3621\n",
            "Epoch 146/150\n",
            "3/3 [==============================] - 3s 1s/step - loss: 2.3767 - accuracy: 0.2936 - val_loss: 2.2942 - val_accuracy: 0.3448\n",
            "Epoch 147/150\n",
            "3/3 [==============================] - 5s 2s/step - loss: 2.3037 - accuracy: 0.3303 - val_loss: 2.3235 - val_accuracy: 0.3448\n",
            "Epoch 148/150\n",
            "3/3 [==============================] - 3s 1s/step - loss: 2.3488 - accuracy: 0.3180 - val_loss: 2.3049 - val_accuracy: 0.3276\n",
            "Epoch 149/150\n",
            "3/3 [==============================] - 3s 1s/step - loss: 2.4093 - accuracy: 0.3028 - val_loss: 2.3226 - val_accuracy: 0.3276\n",
            "Epoch 150/150\n",
            "3/3 [==============================] - 3s 1s/step - loss: 2.2949 - accuracy: 0.3333 - val_loss: 2.3037 - val_accuracy: 0.3276\n"
          ]
        }
      ]
    },
    {
      "cell_type": "code",
      "source": [
        "def plot_history(history, save=True):\n",
        "    \"\"\"Plots accuracy/loss for training/validation set as a function of the epochs\n",
        "        :param history: Training history of model\n",
        "        :return:\n",
        "    \"\"\"\n",
        "    fig, axs = plt.subplots(1,2, figsize=(15, 5))\n",
        "\n",
        "    # create accuracy sublpot\n",
        "    axs[0].plot(history.history[\"accuracy\"], 'co', label=\"Training accuracy\")\n",
        "    axs[0].plot(history.history[\"val_accuracy\"], 'm', label=\"Validation accuracy\")\n",
        "    axs[0].set_ylabel(\"Accuracy\")\n",
        "    axs[0].set_xlabel(\"Epochs\")\n",
        "    axs[0].set_title(\"Training and validation accuracy\")\n",
        "    axs[0].legend(loc = 'lower right')\n",
        "\n",
        "    # create error sublpot\n",
        "    axs[1].plot(history.history[\"loss\"], 'co', label=\"Training loss\")\n",
        "    axs[1].plot(history.history[\"val_loss\"], 'm', label=\"Validation loss\")\n",
        "    axs[1].set_ylabel(\"Loss\")\n",
        "    axs[1].set_xlabel(\"Epochs\")\n",
        "    axs[1].set_title(\"Training and validation loss\")\n",
        "    axs[1].legend(loc = 'lower left')\n",
        "\n",
        "    plt.show()\n",
        "\n",
        "    # Dependiendo de si se quiere guardar\n",
        "    if save == False:\n",
        "        pass\n",
        "    else:\n",
        "        fig.savefig('Training_evaluation.png', facecolor='white')"
      ],
      "metadata": {
        "id": "BWauMgGgEOUF"
      },
      "execution_count": 37,
      "outputs": []
    },
    {
      "cell_type": "code",
      "source": [
        "# plot accuracy/error for training and validation\n",
        "plot_history(history, save=True)"
      ],
      "metadata": {
        "colab": {
          "base_uri": "https://localhost:8080/",
          "height": 350
        },
        "id": "pDJfed7SEGl2",
        "outputId": "b7c14e24-7fd7-4d8d-ac3b-76f375be6e97"
      },
      "execution_count": 38,
      "outputs": [
        {
          "output_type": "display_data",
          "data": {
            "text/plain": [
              "<Figure size 1080x360 with 2 Axes>"
            ],
            "image/png": "[encoded data removed]"
          },
          "metadata": {
            "needs_background": "light"
          }
        }
      ]
    },
    {
      "cell_type": "code",
      "source": [
        "# evaluate model on test set\n",
        "test_loss, test_acc = model.evaluate(x_test, y_test, verbose=2)\n",
        "print('\\nTest accuracy:', test_acc)"
      ],
      "metadata": {
        "colab": {
          "base_uri": "https://localhost:8080/"
        },
        "id": "EGYktcx1EIme",
        "outputId": "33a30650-3b24-486d-d068-5864d198a1bc"
      },
      "execution_count": 14,
      "outputs": [
        {
          "output_type": "stream",
          "name": "stdout",
          "text": [
            "4/4 - 1s - loss: 2.3748 - accuracy: 0.2990 - 521ms/epoch - 130ms/step\n",
            "\n",
            "Test accuracy: 0.2989690601825714\n"
          ]
        }
      ]
    },
    {
      "cell_type": "code",
      "source": [
        "# Guardamos el modelo en un pickle\n",
        "pickle.dump(model, open('/content/gdrive/MyDrive/Colab Notebooks/LSTM_model.pickle','wb'))"
      ],
      "metadata": {
        "colab": {
          "base_uri": "https://localhost:8080/"
        },
        "id": "dGUrP5r5EMFu",
        "outputId": "146dd025-98ef-44d5-fb32-113adfadbf5a"
      },
      "execution_count": 15,
      "outputs": [
        {
          "output_type": "stream",
          "name": "stderr",
          "text": [
            "WARNING:absl:Found untraced functions such as lstm_cell_2_layer_call_fn, lstm_cell_2_layer_call_and_return_conditional_losses, lstm_cell_3_layer_call_fn, lstm_cell_3_layer_call_and_return_conditional_losses while saving (showing 4 of 4). These functions will not be directly callable after loading.\n"
          ]
        },
        {
          "output_type": "stream",
          "name": "stdout",
          "text": [
            "INFO:tensorflow:Assets written to: ram://672eb5c4-8956-41e0-b2b4-9fcdcf77cdd6/assets\n"
          ]
        },
        {
          "output_type": "stream",
          "name": "stderr",
          "text": [
            "INFO:tensorflow:Assets written to: ram://672eb5c4-8956-41e0-b2b4-9fcdcf77cdd6/assets\n",
            "WARNING:absl:<keras.layers.recurrent.LSTMCell object at 0x7f7363e20ad0> has the same name 'LSTMCell' as a built-in Keras object. Consider renaming <class 'keras.layers.recurrent.LSTMCell'> to avoid naming conflicts when loading with `tf.keras.models.load_model`. If renaming is not possible, pass the object in the `custom_objects` parameter of the load function.\n",
            "WARNING:absl:<keras.layers.recurrent.LSTMCell object at 0x7f7363dae990> has the same name 'LSTMCell' as a built-in Keras object. Consider renaming <class 'keras.layers.recurrent.LSTMCell'> to avoid naming conflicts when loading with `tf.keras.models.load_model`. If renaming is not possible, pass the object in the `custom_objects` parameter of the load function.\n"
          ]
        }
      ]
    },
    {
      "cell_type": "code",
      "source": [
        "def save_mfcc_test(dataset_path,n=5, n_mfcc=128, n_fft=2040,\n",
        "              hop_length=512, fmin=500, fmax=8500):\n",
        "   \n",
        "    # Diccionario para archivar los datos\n",
        "  data = []\n",
        "             \n",
        "  # Cargamos el archivo de audio\n",
        "  signal,sr = librosa.load(dataset_path)\n",
        "\n",
        "  # Eliminamos las zonas de silencio\n",
        "  signal,index = librosa.effects.trim(signal)\n",
        "  \n",
        "  # Dividimos el audio en secciones para poder procesar\n",
        "  stream = list(librosa.stream(file_path,\n",
        "        block_length=256,\n",
        "        frame_length=4096,\n",
        "        hop_length=1024))\n",
        "  \n",
        "  for y_block in stream[:-1]:\n",
        "\n",
        "    mfcc = librosa.feature.mfcc(y_block,\n",
        "                              sr =sr,\n",
        "                              n_fft=n_fft,\n",
        "                              hop_length=hop_length,\n",
        "                              fmin=fmin,\n",
        "                              fmax=fmax)\n",
        "    \n",
        "\n",
        "    rm_bk, noise_profile, _=sound.remove_background(mfcc, gauss_win=100)\n",
        "    mfcc = librosa.power_to_db(rm_bk, ref=np.max).astype(np.float32)\n",
        "\n",
        "    mfcc = mfcc.T\n",
        "\n",
        "    # Guardamos los datos\n",
        "    data.append(mfcc.tolist())\n",
        "\n",
        "  data = np.array(data)\n",
        "\n",
        "  return data "
      ],
      "metadata": {
        "id": "_nK1YihzJplj"
      },
      "execution_count": 24,
      "outputs": []
    },
    {
      "cell_type": "code",
      "source": [
        "# Probamos el modelo\n",
        "# Miramos a ver qué resultado da con el audio test\n",
        "file_path = '/content/soundscape.ogg'\n",
        "\n",
        "n=5\n",
        "n_mfcc=128\n",
        "n_fft=2040 \n",
        "hop_length=512\n",
        "\n",
        "test_data = save_mfcc_test(file_path,\n",
        "                 n=n,\n",
        "                 n_mfcc=n_mfcc,\n",
        "                 n_fft=n_fft,\n",
        "                 hop_length=hop_length) "
      ],
      "metadata": {
        "id": "rW0zz9fAFGNe"
      },
      "execution_count": 32,
      "outputs": []
    },
    {
      "cell_type": "code",
      "source": [
        "model = open('/content/gdrive/MyDrive/Colab Notebooks/LSTM_model.pickle','rb')\n",
        "model = pickle.load(model)"
      ],
      "metadata": {
        "id": "FKi0rP-JM5pA"
      },
      "execution_count": 30,
      "outputs": []
    },
    {
      "cell_type": "code",
      "source": [
        "# perform prediction\n",
        "prediction = model.predict(test_data)\n",
        "\n",
        "# get index with max value\n",
        "predicted_index = np.argmax(prediction, axis=1)\n",
        "\n",
        "y = y_encoder.inverse_transform(predicted_index)\n",
        "\n",
        "print(\"Predicted label: {}\".format(y))\n"
      ],
      "metadata": {
        "colab": {
          "base_uri": "https://localhost:8080/"
        },
        "id": "Gl_EdkPlFSGl",
        "outputId": "55ca3ed4-f70b-4792-8abe-1e7aa88ea5a6"
      },
      "execution_count": 33,
      "outputs": [
        {
          "output_type": "stream",
          "name": "stdout",
          "text": [
            "Predicted label: ['apapan' 'akiapo' 'akiapo' 'akiapo' 'akiapo' 'akiapo' 'akiapo']\n"
          ]
        }
      ]
    }
  ]
}