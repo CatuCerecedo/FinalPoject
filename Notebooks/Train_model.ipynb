{
  "nbformat": 4,
  "nbformat_minor": 0,
  "metadata": {
    "colab": {
      "name": "Train_model.ipynb",
      "provenance": [],
      "collapsed_sections": []
    },
    "kernelspec": {
      "name": "python3",
      "display_name": "Python 3"
    },
    "language_info": {
      "name": "python"
    }
  },
  "cells": [
    {
      "cell_type": "code",
      "execution_count": 125,
      "metadata": {
        "id": "kXGCeGselyFD"
      },
      "outputs": [],
      "source": [
        "# Librerias\n",
        "from google.colab import drive\n",
        "import pickle\n",
        "\n",
        "import numpy as np\n",
        "from sklearn.model_selection import train_test_split\n",
        "from sklearn.preprocessing import LabelEncoder\n",
        "\n",
        "from keras.models import Sequential\n",
        "from keras.layers import Dense, Dropout\n",
        "from keras.utils.np_utils import to_categorical\n",
        "from keras.layers import Conv2D, Flatten, MaxPooling2D, BatchNormalization, LSTM\n",
        "\n",
        "import matplotlib.pyplot as plt"
      ]
    },
    {
      "cell_type": "code",
      "source": [
        "drive.mount('/content/gdrive') # WARNING! Pedirá permisos\n",
        "data = open('/content/gdrive/MyDrive/Colab Notebooks/mfcc.pickle','rb')\n",
        "data = pickle.load(data)"
      ],
      "metadata": {
        "id": "RqYg-3VbXCZl",
        "colab": {
          "base_uri": "https://localhost:8080/"
        },
        "outputId": "36690daf-2ccf-4263-c455-48b4a47e0f89"
      },
      "execution_count": 28,
      "outputs": [
        {
          "output_type": "stream",
          "name": "stdout",
          "text": [
            "Drive already mounted at /content/gdrive; to attempt to forcibly remount, call drive.mount(\"/content/gdrive\", force_remount=True).\n"
          ]
        }
      ]
    },
    {
      "cell_type": "code",
      "source": [
        "data.keys()"
      ],
      "metadata": {
        "colab": {
          "base_uri": "https://localhost:8080/"
        },
        "id": "dscoiwaQmcDI",
        "outputId": "8bcf0c97-2c92-47a4-f039-5e0c85047b9c"
      },
      "execution_count": 29,
      "outputs": [
        {
          "output_type": "execute_result",
          "data": {
            "text/plain": [
              "dict_keys(['spp', 'mfcc'])"
            ]
          },
          "metadata": {},
          "execution_count": 29
        }
      ]
    },
    {
      "cell_type": "code",
      "source": [
        "x = np.array(data['mfcc'])"
      ],
      "metadata": {
        "id": "AXjP9uH9q44J"
      },
      "execution_count": 162,
      "outputs": []
    },
    {
      "cell_type": "code",
      "source": [
        "y_encoder = LabelEncoder()\n",
        "y_encoder.fit(data['spp'])\n",
        "y = y_encoder.transform(data['spp'])"
      ],
      "metadata": {
        "id": "XNMwVb3wxruT"
      },
      "execution_count": 164,
      "outputs": []
    },
    {
      "cell_type": "code",
      "source": [
        "y"
      ],
      "metadata": {
        "colab": {
          "base_uri": "https://localhost:8080/"
        },
        "id": "dcZ7ZKa1TwaJ",
        "outputId": "06efc8d0-7b33-4ce8-ced5-2b5c7abd3c6e"
      },
      "execution_count": 165,
      "outputs": [
        {
          "output_type": "execute_result",
          "data": {
            "text/plain": [
              "array([15, 15, 15, 15, 15, 15, 15, 15, 15, 15, 15, 15, 15, 15, 15, 15, 15,\n",
              "       15, 15, 15, 15, 15, 15, 15, 15,  9,  9,  9,  9,  9,  9,  9,  9,  9,\n",
              "        9,  9,  9,  9,  9,  9,  9,  9,  9,  9,  9,  9,  9,  9,  9,  9,  1,\n",
              "        1,  1,  1,  1,  1,  1,  1,  1,  1,  1,  1,  1,  1,  1,  1,  1,  1,\n",
              "        1,  1,  1,  1,  1,  1,  1,  3,  3,  3,  3,  3,  3,  3,  3,  3,  3,\n",
              "        3,  3,  3,  3,  3,  3,  3,  3,  3,  3,  3,  3,  3,  3,  3, 12, 12,\n",
              "       12, 12, 12, 12, 12, 12, 12, 12, 12, 12, 12, 12, 12, 12, 12, 12, 12,\n",
              "       12, 12, 12, 12, 12, 12, 11, 11, 11, 11, 11, 11, 11, 11, 11, 11, 10,\n",
              "       10, 10, 10, 10, 10, 10, 10, 10, 10, 10, 10, 10, 10, 10, 10, 10, 10,\n",
              "       10, 10, 10, 10, 10, 10, 10,  7,  7,  7,  7,  7,  7,  7,  7,  7,  7,\n",
              "        7,  7,  7,  7,  7,  7,  7,  7,  7,  7,  7,  7,  7,  7,  7,  6,  6,\n",
              "        6,  6,  6,  6,  6,  6,  6,  6,  6,  6,  6,  6,  6,  6,  6,  6,  6,\n",
              "        6,  4,  4,  4,  4,  4,  4,  4,  4,  4,  4,  4,  4,  4,  4,  4,  4,\n",
              "        4,  4,  4,  4,  4,  4,  4,  4,  4,  5,  5,  5,  5,  5,  5,  5,  5,\n",
              "        5,  5,  5,  5,  5,  5,  5,  5,  5,  5,  5,  5, 13, 13, 13, 13, 13,\n",
              "       13, 13, 13, 13, 13, 13, 13, 13, 13, 13, 13, 13, 13, 13, 13, 13, 13,\n",
              "       13, 13, 13,  2,  2,  2,  2,  2,  2,  2,  2,  2,  2,  2,  2,  2,  2,\n",
              "        2,  2,  2,  2,  2,  2,  2,  2,  2,  2,  2,  0,  0,  0,  0,  0,  0,\n",
              "        0,  0,  0,  0,  0,  0,  0,  0,  0,  0,  0,  0,  0,  0,  8,  8,  8,\n",
              "        8,  8,  8,  8,  8,  8,  8,  8,  8,  8,  8,  8,  8,  8,  8,  8,  8,\n",
              "        8,  8,  8,  8,  8, 14, 14, 14, 14, 14, 14, 14, 14, 14, 14, 14, 14,\n",
              "       14, 14, 14, 14, 14, 14, 14, 14, 14, 14, 14, 14, 14])"
            ]
          },
          "metadata": {},
          "execution_count": 165
        }
      ]
    },
    {
      "cell_type": "code",
      "source": [
        "# create train, validation and test split\n",
        "x_train, x_test, y_train, y_test = train_test_split(x, y, test_size=0.30)\n",
        "x_train, x_validation, y_train, y_validation = train_test_split(x_train, y_train, test_size=0.30)\n",
        "\n",
        "# add an axis to input sets\n",
        "# x_train = x_train[..., np.newaxis]\n",
        "# x_validation = x_validation[..., np.newaxis]\n",
        "# x_test = x_test[..., np.newaxis]"
      ],
      "metadata": {
        "id": "CwSJ5PLuhjvG"
      },
      "execution_count": 166,
      "outputs": []
    },
    {
      "cell_type": "code",
      "source": [
        "shape_1 = x_train.shape[1]\n",
        "shape_2 = x_train.shape[2]\n",
        "\n",
        "x_train = x_train.reshape(x_train.shape[0], shape_1, shape_2, 1)\n",
        "x_test = x_test.reshape(x_test.shape[0], shape_1, shape_2, 1)\n",
        "\n",
        "input_shape = (shape_1,shape_2,1)\n",
        "input_shape"
      ],
      "metadata": {
        "colab": {
          "base_uri": "https://localhost:8080/"
        },
        "id": "dgFZVF9_jDS3",
        "outputId": "5bdb81b8-7ade-4e0a-f80a-a484d873c85c"
      },
      "execution_count": 167,
      "outputs": [
        {
          "output_type": "execute_result",
          "data": {
            "text/plain": [
              "(95, 128, 1)"
            ]
          },
          "metadata": {},
          "execution_count": 167
        }
      ]
    },
    {
      "cell_type": "code",
      "source": [
        "# build network topology\n",
        "model = Sequential()\n",
        "\n",
        "model.add(Conv2D(16, (3,3), activation='relu', input_shape=input_shape))\n",
        "model.add(MaxPooling2D((2,2), padding='same'))\n",
        "model.add(BatchNormalization())\n",
        "\n",
        "model.add(Conv2D(12, (3,3), activation='relu'))\n",
        "model.add(MaxPooling2D((3,3), strides=(2,2), padding='same'))\n",
        "model.add(BatchNormalization())\n",
        "\n",
        "model.add(Conv2D(32, (2,2), activation='relu'))\n",
        "model.add(MaxPooling2D((3,3), strides=(2,2), padding='same'))\n",
        "model.add(BatchNormalization())\n",
        "model.add(Dropout(0.3))\n",
        "        \n",
        "model.add(Flatten())\n",
        "model.add(Dense(12, activation='relu'))\n",
        "model.add(Dense(1, activation='softmax'))"
      ],
      "metadata": {
        "id": "GCXhQveEoRLx"
      },
      "execution_count": 172,
      "outputs": []
    },
    {
      "cell_type": "code",
      "source": [
        "# compile model\n",
        "model.compile(optimizer='adam',\n",
        "              loss = 'categorical_crossentropy',\n",
        "              metrics=['accuracy'])\n",
        "\n",
        "model.summary()"
      ],
      "metadata": {
        "colab": {
          "base_uri": "https://localhost:8080/"
        },
        "id": "RlQxJHFmpk5R",
        "outputId": "695159a2-bdc5-43d8-dd41-4704b1662253"
      },
      "execution_count": 173,
      "outputs": [
        {
          "output_type": "stream",
          "name": "stdout",
          "text": [
            "Model: \"sequential_29\"\n",
            "_________________________________________________________________\n",
            " Layer (type)                Output Shape              Param #   \n",
            "=================================================================\n",
            " conv2d_40 (Conv2D)          (None, 93, 126, 16)       160       \n",
            "                                                                 \n",
            " max_pooling2d_18 (MaxPoolin  (None, 47, 63, 16)       0         \n",
            " g2D)                                                            \n",
            "                                                                 \n",
            " batch_normalization_39 (Bat  (None, 47, 63, 16)       64        \n",
            " chNormalization)                                                \n",
            "                                                                 \n",
            " conv2d_41 (Conv2D)          (None, 45, 61, 12)        1740      \n",
            "                                                                 \n",
            " max_pooling2d_19 (MaxPoolin  (None, 23, 31, 12)       0         \n",
            " g2D)                                                            \n",
            "                                                                 \n",
            " batch_normalization_40 (Bat  (None, 23, 31, 12)       48        \n",
            " chNormalization)                                                \n",
            "                                                                 \n",
            " conv2d_42 (Conv2D)          (None, 22, 30, 32)        1568      \n",
            "                                                                 \n",
            " max_pooling2d_20 (MaxPoolin  (None, 11, 15, 32)       0         \n",
            " g2D)                                                            \n",
            "                                                                 \n",
            " batch_normalization_41 (Bat  (None, 11, 15, 32)       128       \n",
            " chNormalization)                                                \n",
            "                                                                 \n",
            " dropout_17 (Dropout)        (None, 11, 15, 32)        0         \n",
            "                                                                 \n",
            " flatten_22 (Flatten)        (None, 5280)              0         \n",
            "                                                                 \n",
            " dense_48 (Dense)            (None, 12)                63372     \n",
            "                                                                 \n",
            " dense_49 (Dense)            (None, 1)                 13        \n",
            "                                                                 \n",
            "=================================================================\n",
            "Total params: 67,093\n",
            "Trainable params: 66,973\n",
            "Non-trainable params: 120\n",
            "_________________________________________________________________\n"
          ]
        }
      ]
    },
    {
      "cell_type": "code",
      "source": [
        "model.fit(x_train, y_train, epochs=10)"
      ],
      "metadata": {
        "colab": {
          "base_uri": "https://localhost:8080/"
        },
        "id": "GZFygg8Ou7Gq",
        "outputId": "449e10e0-f335-42dd-80ba-b8ac918ce34d"
      },
      "execution_count": 174,
      "outputs": [
        {
          "output_type": "stream",
          "name": "stdout",
          "text": [
            "Epoch 1/10\n",
            "6/6 [==============================] - 2s 239ms/step - loss: 0.0000e+00 - accuracy: 0.0994\n",
            "Epoch 2/10\n",
            "6/6 [==============================] - 1s 235ms/step - loss: 0.0000e+00 - accuracy: 0.0994\n",
            "Epoch 3/10\n",
            "6/6 [==============================] - 1s 233ms/step - loss: 0.0000e+00 - accuracy: 0.0994\n",
            "Epoch 4/10\n",
            "6/6 [==============================] - 1s 240ms/step - loss: 0.0000e+00 - accuracy: 0.0994\n",
            "Epoch 5/10\n",
            "6/6 [==============================] - 1s 235ms/step - loss: 0.0000e+00 - accuracy: 0.0994\n",
            "Epoch 6/10\n",
            "6/6 [==============================] - 1s 240ms/step - loss: 0.0000e+00 - accuracy: 0.0994\n",
            "Epoch 7/10\n",
            "6/6 [==============================] - 1s 237ms/step - loss: 0.0000e+00 - accuracy: 0.0994\n",
            "Epoch 8/10\n",
            "6/6 [==============================] - 1s 234ms/step - loss: 0.0000e+00 - accuracy: 0.0994\n",
            "Epoch 9/10\n",
            "6/6 [==============================] - 1s 235ms/step - loss: 0.0000e+00 - accuracy: 0.0994\n",
            "Epoch 10/10\n",
            "6/6 [==============================] - 1s 235ms/step - loss: 0.0000e+00 - accuracy: 0.0994\n"
          ]
        },
        {
          "output_type": "execute_result",
          "data": {
            "text/plain": [
              "<keras.callbacks.History at 0x7f4c7ad9ec50>"
            ]
          },
          "metadata": {},
          "execution_count": 174
        }
      ]
    }
  ]
}